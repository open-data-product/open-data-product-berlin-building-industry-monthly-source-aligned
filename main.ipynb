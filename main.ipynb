{
 "cells": [
  {
   "cell_type": "markdown",
   "id": "281c016a",
   "metadata": {},
   "source": [
    "# Berlin Building Industry monthly (source-aligned) - Sample Notebook"
   ]
  },
  {
   "cell_type": "markdown",
   "id": "10857f29",
   "metadata": {},
   "source": [
    "## Explore data"
   ]
  },
  {
   "cell_type": "code",
   "execution_count": 1,
   "id": "fdaad50b",
   "metadata": {
    "execution": {
     "iopub.execute_input": "2025-10-28T22:42:05.966146Z",
     "iopub.status.busy": "2025-10-28T22:42:05.965917Z",
     "iopub.status.idle": "2025-10-28T22:42:05.976154Z",
     "shell.execute_reply": "2025-10-28T22:42:05.975497Z"
    }
   },
   "outputs": [],
   "source": [
    "\n",
    "import pandas as pd        \n",
    "\n",
    "# Read csv file\n",
    "dataframe = pd.read_csv(\"./data/02-silver/berlin-building-industry-2023-11/berlin-building-industry-2023-11-8-companies-employees-working-hours-and-salaries-q4-2022.csv\")\n",
    "            "
   ]
  },
  {
   "cell_type": "code",
   "execution_count": 2,
   "id": "911cac0c",
   "metadata": {
    "execution": {
     "iopub.execute_input": "2025-10-28T22:42:05.977877Z",
     "iopub.status.busy": "2025-10-28T22:42:05.977730Z",
     "iopub.status.idle": "2025-10-28T22:42:05.990586Z",
     "shell.execute_reply": "2025-10-28T22:42:05.990155Z"
    }
   },
   "outputs": [
    {
     "data": {
      "text/html": [
       "<div>\n",
       "<style scoped>\n",
       "    .dataframe tbody tr th:only-of-type {\n",
       "        vertical-align: middle;\n",
       "    }\n",
       "\n",
       "    .dataframe tbody tr th {\n",
       "        vertical-align: top;\n",
       "    }\n",
       "\n",
       "    .dataframe thead th {\n",
       "        text-align: right;\n",
       "    }\n",
       "</style>\n",
       "<table border=\"1\" class=\"dataframe\">\n",
       "  <thead>\n",
       "    <tr style=\"text-align: right;\">\n",
       "      <th></th>\n",
       "      <th>period</th>\n",
       "      <th>companies</th>\n",
       "      <th>employees</th>\n",
       "      <th>working_hours</th>\n",
       "      <th>salaries</th>\n",
       "      <th>turnover_total</th>\n",
       "      <th>turnover_building_construction</th>\n",
       "    </tr>\n",
       "  </thead>\n",
       "  <tbody>\n",
       "    <tr>\n",
       "      <th>0</th>\n",
       "      <td>Ausbaugewerbe</td>\n",
       "      <td>NaN</td>\n",
       "      <td>NaN</td>\n",
       "      <td>NaN</td>\n",
       "      <td>NaN</td>\n",
       "      <td>NaN</td>\n",
       "      <td>NaN</td>\n",
       "    </tr>\n",
       "    <tr>\n",
       "      <th>1</th>\n",
       "      <td>43.2</td>\n",
       "      <td>Bauinstallation</td>\n",
       "      <td>NaN</td>\n",
       "      <td>258.0</td>\n",
       "      <td>15504</td>\n",
       "      <td>5326</td>\n",
       "      <td>158277</td>\n",
       "    </tr>\n",
       "    <tr>\n",
       "      <th>2</th>\n",
       "      <td>43.21</td>\n",
       "      <td>NaN</td>\n",
       "      <td>Elektroinstallation</td>\n",
       "      <td>87.0</td>\n",
       "      <td>4486</td>\n",
       "      <td>1515</td>\n",
       "      <td>45816</td>\n",
       "    </tr>\n",
       "    <tr>\n",
       "      <th>3</th>\n",
       "      <td>43.22</td>\n",
       "      <td>NaN</td>\n",
       "      <td>Gas-, Wasser-, Heizungs-, Lüftungs-u. Klimains...</td>\n",
       "      <td>120.0</td>\n",
       "      <td>7003</td>\n",
       "      <td>2385</td>\n",
       "      <td>70360</td>\n",
       "    </tr>\n",
       "    <tr>\n",
       "      <th>4</th>\n",
       "      <td>43.29.1</td>\n",
       "      <td>NaN</td>\n",
       "      <td>Dämmung gegen Kälte, Wärme,Schall und Erschütt...</td>\n",
       "      <td>22.0</td>\n",
       "      <td>2016</td>\n",
       "      <td>764</td>\n",
       "      <td>13851</td>\n",
       "    </tr>\n",
       "  </tbody>\n",
       "</table>\n",
       "</div>"
      ],
      "text/plain": [
       "          period        companies  ... turnover_total  turnover_building_construction\n",
       "0  Ausbaugewerbe              NaN  ...            NaN                             NaN\n",
       "1           43.2  Bauinstallation  ...           5326                          158277\n",
       "2          43.21              NaN  ...           1515                           45816\n",
       "3          43.22              NaN  ...           2385                           70360\n",
       "4        43.29.1              NaN  ...            764                           13851\n",
       "\n",
       "[5 rows x 7 columns]"
      ]
     },
     "execution_count": 2,
     "metadata": {},
     "output_type": "execute_result"
    }
   ],
   "source": [
    "\n",
    "# Display 5 first rows\n",
    "dataframe.head()\n",
    "            "
   ]
  },
  {
   "cell_type": "code",
   "execution_count": 3,
   "id": "6d50fb88",
   "metadata": {
    "execution": {
     "iopub.execute_input": "2025-10-28T22:42:05.991998Z",
     "iopub.status.busy": "2025-10-28T22:42:05.991904Z",
     "iopub.status.idle": "2025-10-28T22:42:05.996905Z",
     "shell.execute_reply": "2025-10-28T22:42:05.996422Z"
    }
   },
   "outputs": [
    {
     "name": "stdout",
     "output_type": "stream",
     "text": [
      "<class 'pandas.core.frame.DataFrame'>\n",
      "RangeIndex: 13 entries, 0 to 12\n",
      "Data columns (total 7 columns):\n",
      " #   Column                          Non-Null Count  Dtype  \n",
      "---  ------                          --------------  -----  \n",
      " 0   period                          13 non-null     object \n",
      " 1   companies                       2 non-null      object \n",
      " 2   employees                       10 non-null     object \n",
      " 3   working_hours                   12 non-null     float64\n",
      " 4   salaries                        12 non-null     object \n",
      " 5   turnover_total                  12 non-null     object \n",
      " 6   turnover_building_construction  12 non-null     object \n",
      "dtypes: float64(1), object(6)\n",
      "memory usage: 860.0+ bytes\n"
     ]
    }
   ],
   "source": [
    "\n",
    "# Display dataframe info\n",
    "dataframe.info()\n",
    "            "
   ]
  },
  {
   "cell_type": "code",
   "execution_count": 4,
   "id": "327931f2",
   "metadata": {
    "execution": {
     "iopub.execute_input": "2025-10-28T22:42:05.998115Z",
     "iopub.status.busy": "2025-10-28T22:42:05.998034Z",
     "iopub.status.idle": "2025-10-28T22:42:06.002806Z",
     "shell.execute_reply": "2025-10-28T22:42:06.002444Z"
    }
   },
   "outputs": [
    {
     "data": {
      "text/html": [
       "<div>\n",
       "<style scoped>\n",
       "    .dataframe tbody tr th:only-of-type {\n",
       "        vertical-align: middle;\n",
       "    }\n",
       "\n",
       "    .dataframe tbody tr th {\n",
       "        vertical-align: top;\n",
       "    }\n",
       "\n",
       "    .dataframe thead th {\n",
       "        text-align: right;\n",
       "    }\n",
       "</style>\n",
       "<table border=\"1\" class=\"dataframe\">\n",
       "  <thead>\n",
       "    <tr style=\"text-align: right;\">\n",
       "      <th></th>\n",
       "      <th>working_hours</th>\n",
       "    </tr>\n",
       "  </thead>\n",
       "  <tbody>\n",
       "    <tr>\n",
       "      <th>count</th>\n",
       "      <td>12.000000</td>\n",
       "    </tr>\n",
       "    <tr>\n",
       "      <th>mean</th>\n",
       "      <td>67.500000</td>\n",
       "    </tr>\n",
       "    <tr>\n",
       "      <th>std</th>\n",
       "      <td>75.374821</td>\n",
       "    </tr>\n",
       "    <tr>\n",
       "      <th>min</th>\n",
       "      <td>1.000000</td>\n",
       "    </tr>\n",
       "    <tr>\n",
       "      <th>25%</th>\n",
       "      <td>22.750000</td>\n",
       "    </tr>\n",
       "    <tr>\n",
       "      <th>50%</th>\n",
       "      <td>35.000000</td>\n",
       "    </tr>\n",
       "    <tr>\n",
       "      <th>75%</th>\n",
       "      <td>95.250000</td>\n",
       "    </tr>\n",
       "    <tr>\n",
       "      <th>max</th>\n",
       "      <td>258.000000</td>\n",
       "    </tr>\n",
       "  </tbody>\n",
       "</table>\n",
       "</div>"
      ],
      "text/plain": [
       "       working_hours\n",
       "count      12.000000\n",
       "mean       67.500000\n",
       "std        75.374821\n",
       "min         1.000000\n",
       "25%        22.750000\n",
       "50%        35.000000\n",
       "75%        95.250000\n",
       "max       258.000000"
      ]
     },
     "execution_count": 4,
     "metadata": {},
     "output_type": "execute_result"
    }
   ],
   "source": [
    "\n",
    "# Describe dataframe\n",
    "dataframe.describe()\n",
    "            "
   ]
  }
 ],
 "metadata": {
  "language_info": {
   "codemirror_mode": {
    "name": "ipython",
    "version": 3
   },
   "file_extension": ".py",
   "mimetype": "text/x-python",
   "name": "python",
   "nbconvert_exporter": "python",
   "pygments_lexer": "ipython3",
   "version": "3.13.0"
  }
 },
 "nbformat": 4,
 "nbformat_minor": 5
}
